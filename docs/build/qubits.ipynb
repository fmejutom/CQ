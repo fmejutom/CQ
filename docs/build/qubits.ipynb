{
  "cells": [
    {
      "cell_type": "markdown",
      "source": [
        "# CQ\n"
      ],
      "metadata": {
        "id": "Feknek-IFCgm"
      }
    },
    {
      "cell_type": "markdown",
      "source": [
        "# Sección nueva"
      ],
      "metadata": {
        "id": "18HGyvQwF86V"
      }
    },
    {
      "cell_type": "code",
      "source": [
        "qubit = cirq.NamedQubit(\"myqubit\")\n",
        "\n",
        "# creates an equal superposition of |0> and |1> when simulated\n",
        "circuit = cirq.Circuit(cirq.H(qubit))\n",
        "\n",
        "# see the \"myqubit\" identifier at the left of the circuit\n",
        "print(circuit)\n",
        "\n",
        "# run simulation\n",
        "result = cirq.Simulator().simulate(circuit)\n",
        "\n",
        "print(\"result:\")\n",
        "print(result)"
      ],
      "metadata": {
        "colab": {
          "base_uri": "https://localhost:8080/"
        },
        "id": "Q2wm20kxFHdW",
        "outputId": "608ec582-fce1-456f-fe98-64c2382340e6"
      },
      "execution_count": 23,
      "outputs": [
        {
          "output_type": "stream",
          "name": "stdout",
          "text": [
            "myqubit: ───H───\n",
            "result:\n",
            "measurements: (no measurements)\n",
            "\n",
            "qubits: (cirq.NamedQubit('myqubit'),)\n",
            "output vector: 0.707|0⟩ + 0.707|1⟩\n",
            "\n",
            "phase:\n",
            "output vector: |⟩\n"
          ]
        }
      ]
    },
    {
      "cell_type": "code",
      "source": [
        "import cirq\n",
        "import numpy as np\n",
        "\n",
        "# Crear un qubit llamado \"myqubit\"\n",
        "my_qubit = cirq.NamedQubit(\"myqubit\")\n",
        "\n",
        "# Definir un circuito que aplique la puerta Hadamard al qubit\n",
        "circuit = cirq.Circuit(\n",
        "    cirq.H(my_qubit)\n",
        ")\n",
        "\n",
        "print(\"Circuito:\")\n",
        "print(circuit)\n",
        "\n",
        "# Crear un simulador para obtener el vector de estado final\n",
        "simulator = cirq.Simulator()\n",
        "result = simulator.simulate(circuit)\n",
        "\n",
        "# El vector de estado resultante\n",
        "state_vector = result.final_state_vector\n",
        "\n",
        "# Convertir el vector en forma legible (aproximación a 0.707)\n",
        "amplitude_0 = np.round(state_vector[0], 3)\n",
        "amplitude_1 = np.round(state_vector[1], 3)\n",
        "print(\"\\nEstado final (vector de salida):\")\n",
        "print(f\"{amplitude_0}|0⟩ + {amplitude_1}|1⟩\")\n"
      ],
      "metadata": {
        "id": "k56VUF1JGQZW",
        "outputId": "530fa273-1948-404e-e8b7-7526d8f529bf",
        "colab": {
          "base_uri": "https://localhost:8080/"
        }
      },
      "execution_count": 24,
      "outputs": [
        {
          "output_type": "stream",
          "name": "stdout",
          "text": [
            "Circuito:\n",
            "myqubit: ───H───\n",
            "\n",
            "Estado final (vector de salida):\n",
            "(0.7070000171661377+0j)|0⟩ + (0.7070000171661377+0j)|1⟩\n"
          ]
        }
      ]
    }
  ],
  "metadata": {
    "colab": {
      "collapsed_sections": [
        "Sh9QBnKbFf_B"
      ],
      "name": "qubits.ipynb",
      "toc_visible": true,
      "provenance": []
    },
    "kernelspec": {
      "display_name": "Python 3",
      "name": "python3"
    }
  },
  "nbformat": 4,
  "nbformat_minor": 0
}
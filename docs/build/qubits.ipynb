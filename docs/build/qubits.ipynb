{
  "cells": [
    {
      "cell_type": "markdown",
      "source": [
        "# CQ\n"
      ],
      "metadata": {
        "id": "Feknek-IFCgm"
      }
    },
    {
      "cell_type": "code",
      "source": [
        "git checkout -b CQ"
      ],
      "metadata": {
        "id": "Q2wm20kxFHdW",
        "outputId": "93ab8bc3-08f7-44a1-808b-4f5771e75b68",
        "colab": {
          "base_uri": "https://localhost:8080/",
          "height": 110
        }
      },
      "execution_count": 19,
      "outputs": [
        {
          "output_type": "error",
          "ename": "SyntaxError",
          "evalue": "invalid syntax (<ipython-input-19-55c4e202ef81>, line 1)",
          "traceback": [
            "\u001b[0;36m  File \u001b[0;32m\"<ipython-input-19-55c4e202ef81>\"\u001b[0;36m, line \u001b[0;32m1\u001b[0m\n\u001b[0;31m    git checkout -b CQ\u001b[0m\n\u001b[0m        ^\u001b[0m\n\u001b[0;31mSyntaxError\u001b[0m\u001b[0;31m:\u001b[0m invalid syntax\n"
          ]
        }
      ]
    }
  ],
  "metadata": {
    "colab": {
      "collapsed_sections": [
        "Sh9QBnKbFf_B"
      ],
      "name": "qubits.ipynb",
      "toc_visible": true,
      "provenance": []
    },
    "kernelspec": {
      "display_name": "Python 3",
      "name": "python3"
    }
  },
  "nbformat": 4,
  "nbformat_minor": 0
}